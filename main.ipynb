{
 "cells": [
  {
   "cell_type": "markdown",
   "metadata": {},
   "source": [
    "# 从训练到部署一键式烟头检测"
   ]
  },
  {
   "cell_type": "markdown",
   "metadata": {},
   "source": [
    "环境问题是当前社会关注的重点，部分烟民乱丢烟头不仅让城市环境“大打折扣”，还极易引起安全隐患。\n",
    "* 一是乱扔烟头极易造成火灾。烟头虽小，但其表面温度一般在200℃～300℃之间，中心温度可达700℃～800℃之间，而一般可燃物（如纸张、棉花、柴草、木材等）的燃点都在130℃～350℃，都低于烟头的温度。而且如果香烟明火遇见化学物质，就会导致爆炸。\n",
    "* 二是乱扔烟头对植被生长造成不良影响。经过有关部门调查研究，烟头会对青草的发芽率和枝条长度造成影响，对植被生长有负面作用。而且烟头主要成分是醋酸纤维素，这种物质在自然界分解需要10年。\n",
    "* 三是烟头对城市卫生造成污染。现在人民生活水平提高，城市卫生也提上了日程。很多城市越来越讲究卫生，而乱扔烟头，不仅影响城市的美观，也仿佛成了路面上的牛皮癣，不仅到处都是，还如杂草一般，野火烧不尽，春风吹又生。"
   ]
  },
  {
   "cell_type": "markdown",
   "metadata": {},
   "source": [
    "本项目基于PP-YOLOE-SOD模型设计了一个烟头检测算法，完善了从训练到部署的全流程实践，在验证集上能够达到92.0%的mAP，并且能够通过FastDeploy开发套件快速部署，能够满足我们实际检测的需求。"
   ]
  },
  {
   "cell_type": "markdown",
   "metadata": {},
   "source": [
    "## 一、数据集简介"
   ]
  },
  {
   "cell_type": "markdown",
   "metadata": {},
   "source": [
    "本项目使用的是roboflow制作的烟头检测数据集Cigarrette_Detection Computer Vision Project，总共提供1023张标注好的数据图像，该数据集只有一个标签Bud。该数据集已经包含部分数据增强操作：50%可能性的水平翻转、50%可能性的竖直翻转、90度旋转、0-0.25像素的高斯滤波和1%像素点的椒盐噪声。该数据集现已上传至AI Studio。\n",
    "数据集链接：\n",
    "* [原链接](https://universe.roboflow.com/cigarette/cigarrette_detection)\n",
    "* [VOC](https://aistudio.baidu.com/aistudio/datasetdetail/198353)\n",
    "* [COCO](https://aistudio.baidu.com/aistudio/datasetdetail/198347)"
   ]
  },
  {
   "cell_type": "markdown",
   "metadata": {},
   "source": [
    "部分训练集图片：\n",
    "\n",
    "![](https://ai-studio-static-online.cdn.bcebos.com/6d0d1b549c524a8896d6255b467492c16f69fec397934a35bf7052e74fe8a795)"
   ]
  },
  {
   "cell_type": "markdown",
   "metadata": {
    "jupyter": {
     "outputs_hidden": false
    }
   },
   "source": [
    "## 二、数据预处理"
   ]
  },
  {
   "cell_type": "markdown",
   "metadata": {},
   "source": [
    "**Step01：** 解压数据集"
   ]
  },
  {
   "cell_type": "code",
   "execution_count": null,
   "metadata": {
    "collapsed": false,
    "jupyter": {
     "outputs_hidden": false
    },
    "scrolled": true,
    "tags": []
   },
   "outputs": [],
   "source": [
    "!unzip /home/aistudio/data/data198353/Cigarrette_Detection.v30i.voc.zip -d /home/aistudio/work/"
   ]
  },
  {
   "cell_type": "markdown",
   "metadata": {},
   "source": [
    "**Step02：** 区分文件夹中不同后缀名的文件"
   ]
  },
  {
   "cell_type": "markdown",
   "metadata": {},
   "source": [
    "工作目录：/home/aistudio/work/\n",
    "\n",
    "本项目用到的是train、vaild、test文件夹中的图片和标注数据，由于图片和标注数据是存放在一起的，所以我们首先需要把两者分开存放，方便后续处理。\n",
    "\n",
    "首先，我们分别在train、valid和test目录下新建两个文件夹分别为JPEGImages和Annotations。\n",
    "\n",
    "JPEGImages用于存放数据集中的图片。\n",
    "\n",
    "Annotations用于存放标注文件。\n",
    "\n",
    "然后通过下面的指令移动相同后缀名的文件到指定文件夹。"
   ]
  },
  {
   "cell_type": "code",
   "execution_count": null,
   "metadata": {
    "collapsed": false,
    "jupyter": {
     "outputs_hidden": false
    },
    "scrolled": true,
    "tags": []
   },
   "outputs": [],
   "source": [
    "%cd /home/aistudio/work/train/\n",
    "!mkdir JPEGImages \n",
    "!mkdir Annotations\n",
    "!mv /home/aistudio/work/train/*.jpg /home/aistudio/work/train/JPEGImages/\n",
    "!mv /home/aistudio/work/train/*.xml /home/aistudio/work/train/Annotations/"
   ]
  },
  {
   "cell_type": "code",
   "execution_count": null,
   "metadata": {
    "collapsed": false,
    "jupyter": {
     "outputs_hidden": false
    },
    "scrolled": true,
    "tags": []
   },
   "outputs": [],
   "source": [
    "%cd /home/aistudio/work/valid/\n",
    "!mkdir JPEGImages \n",
    "!mkdir Annotations\n",
    "!mv /home/aistudio/work/valid/*.jpg /home/aistudio/work/valid/JPEGImages/\n",
    "!mv /home/aistudio/work/valid/*.xml /home/aistudio/work/valid/Annotations/"
   ]
  },
  {
   "cell_type": "code",
   "execution_count": null,
   "metadata": {
    "scrolled": true,
    "tags": []
   },
   "outputs": [],
   "source": [
    "%cd /home/aistudio/work/test/\n",
    "!mkdir JPEGImages \n",
    "!mkdir Annotations\n",
    "!mv /home/aistudio/work/test/*.jpg /home/aistudio/work/test/JPEGImages/\n",
    "!mv /home/aistudio/work/test/*.xml /home/aistudio/work/test/Annotations/"
   ]
  },
  {
   "cell_type": "markdown",
   "metadata": {},
   "source": [
    "**Step03：** 生成数据集txt文件"
   ]
  },
  {
   "cell_type": "code",
   "execution_count": 20,
   "metadata": {
    "execution": {
     "iopub.execute_input": "2023-03-12T11:23:45.282646Z",
     "iopub.status.busy": "2023-03-12T11:23:45.281804Z",
     "iopub.status.idle": "2023-03-12T11:23:45.290868Z",
     "shell.execute_reply": "2023-03-12T11:23:45.290149Z",
     "shell.execute_reply.started": "2023-03-12T11:23:45.282596Z"
    },
    "scrolled": true
   },
   "outputs": [],
   "source": [
    "import os\n",
    "import random\n",
    "\n",
    "# 设置图片路径和txt存放的路径\n",
    "train_file_path = '/home/aistudio/work/train/JPEGImages'\n",
    "train_save_Path = '/home/aistudio/work/train/'\n",
    "valid_file_path = '/home/aistudio/work/valid/JPEGImages'\n",
    "valid_save_Path = '/home/aistudio/work/valid/'\n",
    "\n",
    "total_train_image = os.listdir(train_file_path)                 \n",
    "ftrain = open(os.path.join(train_save_Path, 'train.txt'), 'w')\n",
    "total_valid_image = os.listdir(valid_file_path)                 \n",
    "fvalid = open(os.path.join(valid_save_Path, 'val.txt'), 'w')\n",
    "\n",
    "# 进行写文件名\n",
    "for file in total_train_image:\n",
    "    name = file[:-4]  # 去掉拓展名\n",
    "    ftrain.write(\"JPEGImages/\"+name+\".jpg \"+\"Annotations/\"+name+\".xml\"+\"\\n\")\n",
    "for file in total_valid_image:\n",
    "    name = file[:-4]  # 去掉拓展名\n",
    "    fvalid.write(\"JPEGImages/\"+name+\".jpg \"+\"Annotations/\"+name+\".xml\"+\"\\n\")\n",
    "\n",
    "# 关闭txt文件\n",
    "ftrain.close()\n",
    "fvalid.close()"
   ]
  },
  {
   "cell_type": "markdown",
   "metadata": {},
   "source": [
    "我们可以看到运行以上代码块后就生成了数据集的txt文件，但还缺少标签文件，因为该任务是个单目标检测问题，只有一个类别，那我们不妨手动创建个label.txt，里面存放唯一类别Bud。"
   ]
  },
  {
   "cell_type": "markdown",
   "metadata": {},
   "source": [
    "## 三、代码实现"
   ]
  },
  {
   "cell_type": "markdown",
   "metadata": {},
   "source": [
    "### 3.1 检测数据分析"
   ]
  },
  {
   "cell_type": "markdown",
   "metadata": {},
   "source": [
    "通过运行以下代码块，我们可以看到数据集有且仅有一个标签Bud，验证了我们上面生成的标签文件是没有什么问题的。"
   ]
  },
  {
   "cell_type": "code",
   "execution_count": 2,
   "metadata": {
    "execution": {
     "iopub.execute_input": "2023-03-12T11:33:59.565476Z",
     "iopub.status.busy": "2023-03-12T11:33:59.564953Z",
     "iopub.status.idle": "2023-03-12T11:33:59.814329Z",
     "shell.execute_reply": "2023-03-12T11:33:59.813481Z",
     "shell.execute_reply.started": "2023-03-12T11:33:59.565444Z"
    },
    "scrolled": true
   },
   "outputs": [
    {
     "name": "stdout",
     "output_type": "stream",
     "text": [
      "各类标签的数量分别为：\r\n",
      "Bud: 928\r\n"
     ]
    }
   ],
   "source": [
    "import os\n",
    "from unicodedata import name\n",
    "import xml.etree.ElementTree as ET\n",
    "import glob\n",
    "\n",
    "def count_num(indir):\n",
    "    # 提取xml文件列表\n",
    "    os.chdir(indir)\n",
    "    annotations = os.listdir('.')\n",
    "    annotations = glob.glob(str(annotations) + '*.xml')\n",
    "\n",
    "    dict = {} # 新建字典，用于存放各类标签名及其对应的数目\n",
    "    for i, file in enumerate(annotations): # 遍历xml文件\n",
    "       \n",
    "        # actual parsing\n",
    "        in_file = open(file, encoding = 'utf-8')\n",
    "        tree = ET.parse(in_file)\n",
    "        root = tree.getroot()\n",
    "\n",
    "        # 遍历文件的所有标签\n",
    "        for obj in root.iter('object'):\n",
    "            name = obj.find('name').text\n",
    "            if(name in dict.keys()): dict[name] += 1 # 如果标签不是第一次出现，则+1\n",
    "            else: dict[name] = 1 # 如果标签是第一次出现，则将该标签名对应的value初始化为1\n",
    "\n",
    "    # 打印结果\n",
    "    print(\"各类标签的数量分别为：\")\n",
    "    for key in dict.keys(): \n",
    "        print(key + ': ' + str(dict[key]))            \n",
    "\n",
    "indir='/home/aistudio/work/train/Annotations/'   # xml文件所在的目录\n",
    "count_num(indir) # 调用函数统计各类标签数目"
   ]
  },
  {
   "cell_type": "markdown",
   "metadata": {},
   "source": [
    "**检测框高宽比分析：** 通过绘制检测框高宽比分布直方图反映当前检测框宽高比的分布情况。"
   ]
  },
  {
   "cell_type": "code",
   "execution_count": null,
   "metadata": {
    "scrolled": true,
    "tags": []
   },
   "outputs": [],
   "source": [
    "import os\n",
    "from unicodedata import name\n",
    "import xml.etree.ElementTree as ET\n",
    "import glob\n",
    "import matplotlib.pyplot as plt\n",
    "\n",
    "def ratio(indir):\n",
    "    # 提取xml文件列表\n",
    "    os.chdir(indir)\n",
    "    annotations = os.listdir('.')\n",
    "    annotations = glob.glob(str(annotations) + '*.xml')\n",
    "    # count_0, count_1, count_2, count_3 = 0, 0, 0, 0 # 举反例，不要这么写\n",
    "    count = [0 for i in range(20)]\n",
    "\n",
    "    for i, file in enumerate(annotations): # 遍历xml文件\n",
    "        # actual parsing\n",
    "        in_file = open(file, encoding = 'utf-8')\n",
    "        tree = ET.parse(in_file)\n",
    "        root = tree.getroot()\n",
    "\n",
    "        # 遍历文件的所有检测框\n",
    "        for obj in root.iter('object'):\n",
    "            xmin = obj.find('bndbox').find('xmin').text\n",
    "            ymin = obj.find('bndbox').find('ymin').text\n",
    "            xmax = obj.find('bndbox').find('xmax').text\n",
    "            ymax = obj.find('bndbox').find('ymax').text\n",
    "            Aspect_ratio = (int(ymax)-int(ymin)) / (int(xmax)-int(xmin))\n",
    "            if int(Aspect_ratio/0.25) < 19:\n",
    "                count[int(Aspect_ratio/0.25)] += 1\n",
    "            else:\n",
    "                count[-1] += 1\n",
    "    sign = [0.25*i for i in range(20)]\n",
    "    plt.bar(x=sign, height=count)\n",
    "    plt.savefig(\"/home/aistudio/work/hw.png\") \n",
    "    plt.show()\n",
    "    print(count)\n",
    "\n",
    "indir='/home/aistudio/work/train/Annotations'   # xml文件所在的目录\n",
    "ratio(indir)"
   ]
  },
  {
   "cell_type": "markdown",
   "metadata": {},
   "source": [
    "结果如下：\n",
    "\n",
    "![](https://ai-studio-static-online.cdn.bcebos.com/3845ff6b2df24ff5a055de53561893f79d6d8f943cc6460ba0b5e1c72b1c3546)"
   ]
  },
  {
   "cell_type": "markdown",
   "metadata": {},
   "source": [
    "**图像尺寸分析：** 通过图像尺寸分析，我们可以看到该数据集图片共有三种尺寸，分别是：\n",
    "* [2048, 1152]\n",
    "* [1536, 2048]\n",
    "* [2048, 1536]"
   ]
  },
  {
   "cell_type": "code",
   "execution_count": null,
   "metadata": {
    "scrolled": true,
    "tags": []
   },
   "outputs": [],
   "source": [
    "import os\n",
    "from unicodedata import name\n",
    "import xml.etree.ElementTree as ET\n",
    "import glob\n",
    "\n",
    "def Image_size(indir):\n",
    "    # 提取xml文件列表\n",
    "    os.chdir(indir)\n",
    "    annotations = os.listdir('.')\n",
    "    annotations = glob.glob(str(annotations) + '*.xml')\n",
    "    width_heights = []\n",
    "\n",
    "    for i, file in enumerate(annotations): # 遍历xml文件\n",
    "        # actual parsing\n",
    "        in_file = open(file, encoding = 'utf-8')\n",
    "        tree = ET.parse(in_file)\n",
    "        root = tree.getroot()\n",
    "        width = int(root.find('size').find('width').text)\n",
    "        height = int(root.find('size').find('height').text)\n",
    "        if [width, height] not in width_heights: width_heights.append([width, height])\n",
    "    print(\"数据集中，有{}种不同的尺寸，分别是：\".format(len(width_heights)))\n",
    "    for item in width_heights:\n",
    "        print(item)\n",
    "\n",
    "indir='/home/aistudio/work/train/Annotations/'   # xml文件所在的目录\n",
    "Image_size(indir)"
   ]
  },
  {
   "cell_type": "markdown",
   "metadata": {},
   "source": [
    "### 3.2 安装PaddleDetection"
   ]
  },
  {
   "cell_type": "code",
   "execution_count": null,
   "metadata": {
    "scrolled": true,
    "tags": []
   },
   "outputs": [],
   "source": [
    "# 克隆PaddleDetection仓库\n",
    "#!git clone https://github.com/PaddlePaddle/PaddleDetection.git\n",
    "\n",
    "# 安装其他依赖\n",
    "%cd /home/aistudio/PaddleDetection/\n",
    "!pip install -r requirements.txt\n",
    "\n",
    "# 编译安装paddledet\n",
    "!python setup.py install"
   ]
  },
  {
   "cell_type": "markdown",
   "metadata": {},
   "source": [
    "### 3.3 模型训练"
   ]
  },
  {
   "cell_type": "markdown",
   "metadata": {},
   "source": [
    "**Step01：** 在/home/aistudio/PaddleDetection/dataset目录下新建一个名为Cigarrette_Detection的文件夹，并将数据集移动到该目录下。"
   ]
  },
  {
   "cell_type": "code",
   "execution_count": 5,
   "metadata": {
    "execution": {
     "iopub.execute_input": "2023-03-12T15:00:09.821517Z",
     "iopub.status.busy": "2023-03-12T15:00:09.821013Z",
     "iopub.status.idle": "2023-03-12T15:00:10.054610Z",
     "shell.execute_reply": "2023-03-12T15:00:10.053382Z",
     "shell.execute_reply.started": "2023-03-12T15:00:09.821484Z"
    },
    "scrolled": true
   },
   "outputs": [],
   "source": [
    "!mv /home/aistudio/work/* /home/aistudio/PaddleDetection/dataset/Cigarrette_Detection"
   ]
  },
  {
   "cell_type": "markdown",
   "metadata": {},
   "source": [
    "Step02：统计数据集分布"
   ]
  },
  {
   "cell_type": "markdown",
   "metadata": {},
   "source": [
    "在本项目任务是要检测烟头，烟头在图像中是一个很小的物体，因此我想到使用PP-YOLOE-SOD模型。\n",
    "\n",
    "PP-YOLOE-SOD 是PaddleDetection团队自研的小目标检测特色模型，使用数据集分布相关的基于向量的DFL算法 和 针对小目标优化的中心先验优化策略，并且在模型的Neck(FPN)结构中加入Transformer模块，以及结合增加P2层、使用large size等策略，最终在多个小目标数据集上达到极高的精度。"
   ]
  },
  {
   "cell_type": "markdown",
   "metadata": {},
   "source": [
    "在此之前，我首先需要统计一下数据集分布，看是否需要切图训练。"
   ]
  },
  {
   "cell_type": "markdown",
   "metadata": {},
   "source": [
    "由于，官方给出的API目前只支持COCO格式数据集，所以我通过以下命令将数据集转化成COCO格式。"
   ]
  },
  {
   "cell_type": "code",
   "execution_count": null,
   "metadata": {
    "scrolled": true,
    "tags": []
   },
   "outputs": [],
   "source": [
    "!python tools/x2coco.py \\\n",
    "        --dataset_type voc \\\n",
    "        --voc_anno_dir dataset/Cigarrette_Detection/train/ \\\n",
    "        --voc_anno_list dataset/Cigarrette_Detection/train/train.txt \\\n",
    "        --voc_label_list dataset/Cigarrette_Detection/train/label.txt \\\n",
    "        --voc_out_name dataset/Cigarrette_Detection/train/voc_train.json"
   ]
  },
  {
   "cell_type": "code",
   "execution_count": null,
   "metadata": {
    "scrolled": true,
    "tags": []
   },
   "outputs": [],
   "source": [
    "!python tools/x2coco.py \\\n",
    "        --dataset_type voc \\\n",
    "        --voc_anno_dir dataset/Cigarrette_Detection/valid/ \\\n",
    "        --voc_anno_list dataset/Cigarrette_Detection/valid/val.txt \\\n",
    "        --voc_label_list dataset/Cigarrette_Detection/valid/label.txt \\\n",
    "        --voc_out_name dataset/Cigarrette_Detection/valid/voc_valid.json"
   ]
  },
  {
   "cell_type": "code",
   "execution_count": null,
   "metadata": {
    "scrolled": true,
    "tags": []
   },
   "outputs": [],
   "source": [
    "!python tools/box_distribution.py --json_path dataset/Cigarrette_Detection/train/voc_train.json --out_img box_distribution.jpg --eval_size 640 --small_stride 8"
   ]
  },
  {
   "cell_type": "markdown",
   "metadata": {},
   "source": [
    "结果如下：\n",
    "* Suggested reg_range[1] is 16 # DFL算法中推荐值，在 PP-YOLOE-SOD 模型的配置文件的head中设置为此值，效果最佳\n",
    "* Mean of all img_w is 1913.986577181208 # 原图宽的平均值\n",
    "* Mean of all img_h is 1390.3892617449665 # 原图高的平均值\n",
    "* Median of ratio_w is 0.10880533854166666 # 标注框的宽与原图宽的比例的中位数\n",
    "* Median of ratio_h is 0.14029947916666669 # 标注框的高与原图高的比例的中位数\n",
    "* all_img with box:  894 # 数据集图片总数(排除无框或空标注的图片)\n",
    "* all_ann:  928 # 数据集标注框总数\n",
    "\n",
    "![](https://ai-studio-static-online.cdn.bcebos.com/330e8df0aab54dac943589733d3eb8b8cc5e5cd362814a93b74bab22dcf6ad71)"
   ]
  },
  {
   "cell_type": "markdown",
   "metadata": {},
   "source": [
    "一般情况下，在原始数据集全部有标注框的图片中，原图宽高的平均值大于1500像素，且有1/2以上的图片标注框的平均宽高与原图宽高比例小于0.04时(通过打印中位数得到该值)，建议进行切图训练。因此在本项目中我选择通过原图去训练。"
   ]
  },
  {
   "cell_type": "markdown",
   "metadata": {},
   "source": [
    "经过八十轮次的迭代，我们可以看到训练的模型已经在验证集取得了不错的效果，mAP为92.0%，满足了我们项目的标准。"
   ]
  },
  {
   "cell_type": "code",
   "execution_count": null,
   "metadata": {
    "scrolled": true,
    "tags": []
   },
   "outputs": [],
   "source": [
    "!python tools/train.py -c configs/smalldet/ppyoloe_plus_sod_crn_l_80e_coco.yml --amp --eval --use_vdl True --vdl_log_dir vdl_log_dir/scalar"
   ]
  },
  {
   "cell_type": "markdown",
   "metadata": {},
   "source": [
    "损失函数如图所示：\n",
    "\n",
    "![](https://ai-studio-static-online.cdn.bcebos.com/8c8d94cc5ef6456fa1c61715c2bac61cb7de03d3f01642b7b94e2132385e1208)"
   ]
  },
  {
   "cell_type": "markdown",
   "metadata": {},
   "source": [
    "### 3.4 模型评估"
   ]
  },
  {
   "cell_type": "markdown",
   "metadata": {},
   "source": [
    "通过如下命令在单个GPU上评估我们的验证集。"
   ]
  },
  {
   "cell_type": "code",
   "execution_count": null,
   "metadata": {
    "scrolled": true,
    "tags": []
   },
   "outputs": [],
   "source": [
    "!python tools/eval.py -c configs/smalldet/ppyoloe_plus_sod_crn_l_80e_coco.yml -o weights=output/ppyoloe_plus_sod_crn_l_80e_coco/best_model.pdparams"
   ]
  },
  {
   "cell_type": "markdown",
   "metadata": {},
   "source": [
    "结果如下：\n",
    "* Average Precision  (AP) @[ IoU=0.50:0.95 | area=   all | maxDets=100 ] = 0.920\n",
    "* Average Precision  (AP) @[ IoU=0.50      | area=   all | maxDets=100 ] = 1.000\n",
    "* Average Precision  (AP) @[ IoU=0.75      | area=   all | maxDets=100 ] = 0.996\n",
    "* Average Precision  (AP) @[ IoU=0.50:0.95 | area= small | maxDets=100 ] = -1.000\n",
    "* Average Precision  (AP) @[ IoU=0.50:0.95 | area=medium | maxDets=100 ] = -1.000\n",
    "* Average Precision  (AP) @[ IoU=0.50:0.95 | area= large | maxDets=100 ] = 0.920\n",
    "* Average Recall     (AR) @[ IoU=0.50:0.95 | area=   all | maxDets=  1 ] = 0.906\n",
    "* Average Recall     (AR) @[ IoU=0.50:0.95 | area=   all | maxDets= 10 ] = 0.944\n",
    "* Average Recall     (AR) @[ IoU=0.50:0.95 | area=   all | maxDets=100 ] = 0.944\n",
    "* Average Recall     (AR) @[ IoU=0.50:0.95 | area= small | maxDets=100 ] = -1.000\n",
    "* Average Recall     (AR) @[ IoU=0.50:0.95 | area=medium | maxDets=100 ] = -1.000\n",
    "* Average Recall     (AR) @[ IoU=0.50:0.95 | area= large | maxDets=100 ] = 0.944\n",
    "* Total sample number: 64, average FPS: 15.98533735534183"
   ]
  },
  {
   "cell_type": "markdown",
   "metadata": {},
   "source": [
    "### 3.5 模型推理"
   ]
  },
  {
   "cell_type": "markdown",
   "metadata": {},
   "source": [
    "我们可以通过以下命令在单张GPU上推理文件中的所有图片。"
   ]
  },
  {
   "cell_type": "code",
   "execution_count": null,
   "metadata": {
    "scrolled": true,
    "tags": []
   },
   "outputs": [],
   "source": [
    "!python tools/infer.py -c configs/smalldet/ppyoloe_plus_sod_crn_l_80e_coco.yml -o weights=output/ppyoloe_plus_sod_crn_l_80e_coco/best_model.pdparams --infer_dir=dataset/Cigarrette_Detection/test/JPEGImages --output_dir infer_output/"
   ]
  },
  {
   "cell_type": "markdown",
   "metadata": {},
   "source": [
    "### 3.6 模型导出"
   ]
  },
  {
   "cell_type": "markdown",
   "metadata": {},
   "source": [
    "PP-YOLO-SOD在GPU上部署或者速度测试需要通过tools/export_model.py导出模型。"
   ]
  },
  {
   "cell_type": "code",
   "execution_count": null,
   "metadata": {
    "scrolled": true,
    "tags": []
   },
   "outputs": [],
   "source": [
    "!python tools/export_model.py -c configs/smalldet/ppyoloe_plus_sod_crn_l_80e_coco.yml -o weights=output/ppyoloe_plus_sod_crn_l_80e_coco/best_model.pdparams"
   ]
  },
  {
   "cell_type": "markdown",
   "metadata": {},
   "source": [
    "### 3.7 FastDeploy快速部署"
   ]
  },
  {
   "cell_type": "markdown",
   "metadata": {},
   "source": [
    "**环境准备：** 本项目的部署环节主要用到的套件为飞桨部署工具FastDeploy，因此我们先安装FastDeploy。"
   ]
  },
  {
   "cell_type": "code",
   "execution_count": null,
   "metadata": {
    "scrolled": true,
    "tags": []
   },
   "outputs": [],
   "source": [
    "!pip install fastdeploy-gpu-python -f https://www.paddlepaddle.org.cn/whl/fastdeploy.html"
   ]
  },
  {
   "cell_type": "markdown",
   "metadata": {},
   "source": [
    "**部署模型：**\n",
    "\n",
    "导入飞桨部署工具FastDepoy包，创建Runtimeoption，具体实现如下代码所示。"
   ]
  },
  {
   "cell_type": "code",
   "execution_count": null,
   "metadata": {
    "scrolled": true,
    "tags": []
   },
   "outputs": [],
   "source": [
    "import fastdeploy as fd\n",
    "import cv2\n",
    "import os"
   ]
  },
  {
   "cell_type": "code",
   "execution_count": null,
   "metadata": {
    "scrolled": true,
    "tags": []
   },
   "outputs": [],
   "source": [
    "def build_option(device='cpu', use_trt=False):\n",
    "    option = fd.RuntimeOption()\n",
    "\n",
    "    if device.lower() == \"gpu\":\n",
    "        option.use_gpu()\n",
    "\n",
    "    if use_trt:\n",
    "        option.use_trt_backend()\n",
    "        option.set_trt_input_shape(\"image\", [1, 3, 640, 640])\n",
    "        option.set_trt_input_shape(\"scale_factor\", [1, 2])\n",
    "\n",
    "    return option"
   ]
  },
  {
   "cell_type": "markdown",
   "metadata": {},
   "source": [
    "配置模型路径，创建Runtimeoption，指定部署设备和后端推理引擎，代码实现如下所示。"
   ]
  },
  {
   "cell_type": "code",
   "execution_count": 13,
   "metadata": {
    "execution": {
     "iopub.execute_input": "2023-03-13T03:42:56.516894Z",
     "iopub.status.busy": "2023-03-13T03:42:56.515821Z",
     "iopub.status.idle": "2023-03-13T03:43:01.268634Z",
     "shell.execute_reply": "2023-03-13T03:43:01.267853Z",
     "shell.execute_reply.started": "2023-03-13T03:42:56.516850Z"
    },
    "scrolled": true,
    "tags": []
   },
   "outputs": [
    {
     "name": "stdout",
     "output_type": "stream",
     "text": [
      "[INFO] fastdeploy/vision/common/processors/transform.cc(45)::FuseNormalizeCast\tNormalize and Cast are fused to Normalize in preprocessing pipeline.\r\n",
      "[INFO] fastdeploy/vision/common/processors/transform.cc(93)::FuseNormalizeHWC2CHW\tNormalize and HWC2CHW are fused to NormalizeAndPermute  in preprocessing pipeline.\r\n",
      "[INFO] fastdeploy/vision/common/processors/transform.cc(159)::FuseNormalizeColorConvert\tBGR2RGB and NormalizeAndPermute are fused to NormalizeAndPermute with swap_rb=1\r\n",
      "[INFO] fastdeploy/runtime/runtime.cc(336)::CreateOrtBackend\tRuntime initialized with Backend::ORT in Device::GPU.\r\n",
      "DetectionResult: [xmin, ymin, xmax, ymax, score, label_id]\r\n",
      "699.563171,810.522095, 799.750000, 1026.120483, 0.947899, 0\r\n",
      "413.548218,2002.615234, 463.452667, 2045.350220, 0.057318, 0\r\n",
      "0.069912,2014.856812, 61.427635, 2043.998413, 0.047085, 0\r\n",
      "-5.364040,2000.043213, 69.566093, 2050.473877, 0.025710, 0\r\n",
      "324.293274,1981.731201, 383.768951, 2044.225952, 0.025672, 0\r\n",
      "707.287048,2005.951416, 782.452332, 2046.240601, 0.025146, 0\r\n",
      "322.815704,1985.863525, 367.247070, 2043.282837, 0.024468, 0\r\n",
      "326.550507,1986.062866, 409.571411, 2047.500244, 0.021357, 0\r\n",
      "340.266266,1993.697510, 422.300842, 2049.025879, 0.015156, 0\r\n",
      "312.270721,2005.896729, 374.864838, 2046.006104, 0.014499, 0\r\n",
      "1050.797363,2011.200806, 1119.646851, 2047.535767, 0.014191, 0\r\n",
      "528.253357,1982.610352, 568.553284, 2049.691895, 0.013894, 0\r\n",
      "1247.373901,368.684387, 1714.013306, 1125.824829, 0.013408, 0\r\n",
      "1259.502686,694.263367, 1747.221924, 1417.727661, 0.013286, 0\r\n",
      "1194.399780,804.634460, 1740.255249, 1523.039917, 0.013065, 0\r\n",
      "195.138412,2008.410767, 276.966187, 2048.772705, 0.012994, 0\r\n",
      "1264.490479,-306.850220, 1681.533936, 374.999054, 0.012590, 0\r\n",
      "1283.447876,532.379089, 1735.535400, 1274.029541, 0.012187, 0\r\n",
      "-2.936078,1937.270752, 67.170219, 2048.038330, 0.012146, 0\r\n",
      "523.009094,1975.911865, 574.903015, 2048.679199, 0.011924, 0\r\n",
      "-9.413356,-17.343719, 57.804596, 125.412109, 0.011719, 0\r\n",
      "1245.938232,1069.873169, 1717.369629, 1756.004883, 0.011573, 0\r\n",
      "763.720703,1993.565186, 838.693604, 2049.804688, 0.011537, 0\r\n",
      "1164.476440,2008.526978, 1236.472290, 2046.439819, 0.011439, 0\r\n",
      "768.148193,1704.626953, 1189.285400, 2316.069336, 0.010670, 0\r\n",
      "1287.887451,92.622879, 1731.965820, 777.462097, 0.010521, 0\r\n",
      "320.742218,1992.489868, 395.267548, 2046.515381, 0.010429, 0\r\n",
      "691.063171,1694.692017, 1116.942505, 2319.269531, 0.010349, 0\r\n",
      "1234.814209,1988.658203, 1405.201050, 2051.839844, 0.010012, 0\r\n",
      "\r\n",
      "Visualized result save in ./visualized_result.jpg\r\n"
     ]
    }
   ],
   "source": [
    "# 配置模型路径\n",
    "model_path = '/home/aistudio/PaddleDetection/output_inference/ppyoloe_plus_sod_crn_l_80e_coco'\n",
    "image_path = '/home/aistudio/PaddleDetection/dataset/Cigarrette_Detection/test/JPEGImages/ca1349ee-fbd8-4939-90ab-0118f04e602c_png.rf.72c05d0cb16fd458f1587cca162df699.jpg'\n",
    "model_file = os.path.join(model_path, \"model.pdmodel\")\n",
    "params_file = os.path.join(model_path, \"model.pdiparams\")\n",
    "config_file = os.path.join(model_path, \"infer_cfg.yml\")\n",
    "\n",
    "# 创建RuntimeOption\n",
    "runtime_option = build_option(device='gpu', use_trt=False)\n",
    "\n",
    "# 创建PPYOLOE模型\n",
    "model = fd.vision.detection.PPYOLOE(model_file,\n",
    "                                   params_file,\n",
    "                                   config_file,\n",
    "                                   runtime_option=runtime_option)\n",
    "\n",
    "# 预测图片检测结果\n",
    "im = cv2.imread(image_path)\n",
    "result = model.predict(im.copy())\n",
    "print(result)\n",
    "\n",
    "# 预测结果可视化\n",
    "vis_im = fd.vision.vis_detection(im, result, score_threshold=0.5, line_size=5, font_size=1.0)\n",
    "cv2.imwrite(\"/home/aistudio/work/visualized_result.jpg\", vis_im)\n",
    "print(\"Visualized result save in ./visualized_result.jpg\")"
   ]
  },
  {
   "cell_type": "markdown",
   "metadata": {},
   "source": [
    "推理结果如下：\n",
    "\n",
    "![](https://ai-studio-static-online.cdn.bcebos.com/d4d7e63542444a56be9bb02bb57a71073f28f3a0cb6749969e096a9d44450f1f)"
   ]
  },
  {
   "cell_type": "markdown",
   "metadata": {},
   "source": [
    "## 四、效果展示"
   ]
  },
  {
   "cell_type": "markdown",
   "metadata": {},
   "source": [
    "部分可视化结果如下：\n",
    "\n",
    "![](https://ai-studio-static-online.cdn.bcebos.com/4ef85110be7c4280ab51da6b5269a6cbce082c493876456784f5289f8aa0af31)"
   ]
  },
  {
   "cell_type": "markdown",
   "metadata": {},
   "source": [
    "## 五、总结提高"
   ]
  },
  {
   "cell_type": "markdown",
   "metadata": {},
   "source": [
    "本项目任务要检测烟头，由于烟头目标较小，我们可以优先考虑小目标检测模型，因此我用的是PP-YOLOE-SOD，最终也取到了不错的效果，mAP达到92.0%，大家如果感兴趣可以选择通用目标检测模型，看看是否能达到更好的效果。同时我们的数据集已经做了部分数据增强的操作，因此不需要过多的数据增强，我在这里只多做了一个MixUp的操作。"
   ]
  },
  {
   "cell_type": "markdown",
   "metadata": {},
   "source": [
    "作者简介：Submerge. 江苏某大学大三学生 人工智能专业 [主页链接](https://aistudio.baidu.com/aistudio/personalcenter/thirdview/2365489) 欢迎互关！\n",
    "\n",
    "飞桨导师：刘建建 [Javaroom](https://aistudio.baidu.com/aistudio/personalcenter/thirdview/89263) 在此感谢。"
   ]
  }
 ],
 "metadata": {
  "kernelspec": {
   "display_name": "Python 3",
   "language": "python",
   "name": "py35-paddle1.2.0"
  },
  "language_info": {
   "codemirror_mode": {
    "name": "ipython",
    "version": 3
   },
   "file_extension": ".py",
   "mimetype": "text/x-python",
   "name": "python",
   "nbconvert_exporter": "python",
   "pygments_lexer": "ipython3",
   "version": "3.7.4"
  }
 },
 "nbformat": 4,
 "nbformat_minor": 4
}
